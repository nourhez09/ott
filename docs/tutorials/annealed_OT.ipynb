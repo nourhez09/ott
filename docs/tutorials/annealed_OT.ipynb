{
 "cells": [
  {
   "cell_type": "markdown",
   "id": "849431af",
   "metadata": {},
   "source": [
    "# Annealed sinkhorn for Optimal Transport"
   ]
  },
  {
   "cell_type": "markdown",
   "id": "09bfb65b",
   "metadata": {},
   "source": [
    "In this tutorial, we explore the various recipes proposed in [Chizat, 2024](https://arxiv.org/abs/2408.11620) to accelerate the convergence of sinkhorn algorithm, striking a better tradeoff between accuracy and speed of convergence  \n",
    "\n",
    "This tutorial was elaborated by HEZBRI Nour \n",
    "-Email : nour.hezbri@ensae.fr to validate the course Computational Optimal transport of Marco CUTURI."
   ]
  },
  {
   "cell_type": "markdown",
   "id": "64c7321e",
   "metadata": {},
   "source": [
    "## Imports"
   ]
  },
  {
   "cell_type": "code",
   "execution_count": 2,
   "id": "4c52d38a",
   "metadata": {},
   "outputs": [],
   "source": [
    "import os \n",
    "import sys\n",
    "\n",
    "notebook_dir = os.getcwd()\n",
    "src_path = os.path.abspath(os.path.join(notebook_dir, \"../../src\"))\n",
    "sys.path.insert(0, src_path)"
   ]
  },
  {
   "cell_type": "code",
   "execution_count": 3,
   "id": "e5a66a95",
   "metadata": {},
   "outputs": [],
   "source": [
    "import jax.numpy as jnp\n",
    "from ott.geometry import pointcloud, costs\n",
    "from ott.solvers.linear import sinkhorn\n",
    "import seaborn as sns\n",
    "import matplotlib.pyplot as plt\n",
    "from ott.problems.linear import linear_problem\n",
    "import jax \n",
    "import time \n",
    "from ott.geometry.epsilon_scheduler import Epsilon\n",
    "import jax.tree_util as jtu\n",
    "from typing import Optional\n",
    "import jax.numpy as jnp\n",
    "from ott.geometry import geometry\n",
    "import ot \n"
   ]
  },
  {
   "cell_type": "markdown",
   "id": "b58fca73",
   "metadata": {},
   "source": [
    "## Problem Formulation"
   ]
  },
  {
   "cell_type": "markdown",
   "id": "d8ccb964",
   "metadata": {},
   "source": [
    "All along, we are interested in solving the **entropy-regularized optimal transport problem** (EOT) formulated as:\n",
    "\n",
    "$$\n",
    "EOT_{\\beta}(p, q) := \\min_{\\pi \\in \\Gamma(p, q)} \\langle c, \\pi \\rangle + \\frac{1}{\\beta} \\text{KL}(\\pi \\parallel \\pi_{\\text{ref}})\n",
    "$$\n",
    "\n",
    "Where:\n",
    "- $ p \\in \\Delta^m $, $ q \\in \\Delta^n $: input marginal distributions (probability vectors),\n",
    "- $ c \\in \\mathbb{R}^{m \\times n} $: cost matrix,\n",
    "- $ \\Gamma(p, q) = \\left\\{ \\pi \\in \\mathbb{R}_+^{m \\times n} : \\pi 1 = p, \\pi^\\top 1 = q \\right\\} $: set of admissible couplings,\n",
    "- $ \\beta > 0 $: inverse temperature (i.e., regularization strength $ \\epsilon = \\frac{1}{\\beta} $),\n",
    "- $ \\text{KL}(\\pi \\parallel \\pi_{\\text{ref}}) $: Kullback-Leibler divergence,\n",
    "- $ \\pi_{\\text{ref}} = \\frac{1}{mn} 1_m 1_n^\\top $: uniform reference coupling.\n",
    "\n",
    "This problem is efficiently solved using the **Sinkhorn algorithm**.\n",
    "\n",
    "\n",
    "The unique solution $ \\pi^* $ to the EOT problem has the form:\n",
    "\n",
    "$$\n",
    "\\pi^* = \\text{diag}(a^*) \\, K \\, \\text{diag}(b^*)\n",
    "$$\n",
    "\n",
    "Where:\n",
    "- $ K = \\exp(-\\beta c) \\in \\mathbb{R}_+^{m \\times n} $ is the **Gibbs kernel**,\n",
    "- $ a^* \\in \\mathbb{R}_+^m $, $ b^* \\in \\mathbb{R}_+^n $ are the **scaling vectors**.\n",
    "\n",
    "Starting from initial vectors $ a_0 = 1 $, $ b_0 = 1 $, Sinkhorn’s algorithm performs alternating KL projections  onto the marginal constraints.\n",
    "\n",
    "The update rules are:\n",
    "\n",
    "$$\n",
    "a_t = \\frac{p}{K b_{t-1}} \\quad \\text{and} \\quad b_t = \\frac{q}{K^\\top a_t} \n",
    "$$\n",
    "\n",
    "An important question is how to choose the value of **β** to get the best balance between **accuracy**, **convergence speed**, and **numerical stability**.  \n",
    "To address this, we explore several practical strategies, all based on implementing an **annealing approach** — where **β** is not fixed, but instead follows a varying sequence $(\\beta_t)_t$ over time.\n",
    "\n",
    "\n",
    "<!-- An important question is on how to choose beta, to strike the best tradeoff between accuracy and speed of convergence and stability of the algorithm. \n",
    "Therefore, we explore here several recipes for that , all of them based on the implementation of an annealing strategy, by considering a varying $(\\beta_t)_t$ sequence over time.  -->\n",
    "\n",
    "<!-- ## 📉 Annealing Strategy: \\( \\beta_t \\) Schedule\n",
    "\n",
    "To reduce bias from entropy regularization, an **annealing schedule** increases \\( \\beta \\) over time:\n",
    "\n",
    "$$\n",
    "\\epsilon_t = \\frac{1}{\\beta_t} \\quad \\rightarrow \\quad 0\n",
    "$$\n",
    "\n",
    "This defines a **regularization path** from a highly regularized problem to the true OT solution.\n",
    "\n",
    "### Behavior over time:\n",
    "\n",
    "- **Early stages (small \\( \\beta \\) / large \\( \\epsilon \\))**:\n",
    "  - Fast convergence,\n",
    "  - Regularized solution is overly smooth, introducing bias.\n",
    "\n",
    "- **Later stages (large \\( \\beta \\) / small \\( \\epsilon \\))**:\n",
    "  - Slower convergence,\n",
    "  - Solution approximates the true OT more accurately but with slower convergence.\n",
    "\n",
    "This schedule is akin to **simulated annealing**, where:\n",
    "- Early iterations explore a broad space of solutions,\n",
    "- Later iterations focus on refining the solution for more precise results. -->"
   ]
  },
  {
   "cell_type": "markdown",
   "id": "c6b13f62",
   "metadata": {},
   "source": [
    "<!-- Entropic Optimal transport : \n",
    "\n",
    "Entropic OT formulation :  \n",
    "\n",
    "write as an introduction \n",
    "\n",
    "+ motivation: in what context/setting we want to resort to an annealing scheme :\n",
    "\n",
    "+ how much we gain presomptly in speed of convergence: which is exactly what we want to experiment in this notebook for different choices of cost and data settings \n",
    "We will explore 4 different recipes . with the gain in complexity we have with EOT, the question remains on how to efficiently choose the hyperparameter epsilon, the blurring param, so as to go fast , but not loose too much in terms of the error on the solution. depending on the complexity of the data we aim to transport, we might want to adopt an annealing strategy, basically we start with higher values of epsilon in the beginning and then to decrese it gradually so to refine .\n",
    "\n",
    "\n",
    "we will look at different recipes for a simple synthetic data steup and at the end we will provide a comparison   -->"
   ]
  },
  {
   "cell_type": "markdown",
   "id": "460642f5",
   "metadata": {},
   "source": [
    "## 1- Schedule definition : \n",
    "\n",
    "<!-- The schedule proposed in the paper is of the form \\beta_t= \\beta_0()\n",
    "\n",
    "properties : concave \n",
    "\\beta_t -> inf \n",
    "\\beta_t -\\betat-1 -> 0 -->\n",
    "\n",
    "\n",
    "We consider a **positive, non-decreasing, and concave** annealing schedule $ (\\beta_t)$, which satisfies the following properties:\n",
    "\n",
    "- **Monotonicity**:  \n",
    "  $ \\beta_t \\geq \\beta_{t-1} $ (i.e., the sequence is non-decreasing).\n",
    "\n",
    "- **Concavity**:  \n",
    "  The sequence of differences $ \\alpha_t = \\beta_t - \\beta_{t-1} $ is **non-negative and non-increasing**.\n",
    "\n",
    "- **Unbounded growth**:  \n",
    "  $\\beta_t \\to \\infty $ as $ t \\to \\infty $.\n",
    "\n",
    "- **Vanishing increments**:  \n",
    "  $ \\beta_t - \\beta_{t-1} \\to 0 $ as $  t \\to \\infty $.\n",
    "\n",
    "The paper proposes a specific schedule of the form:\n",
    "\n",
    "$$\n",
    "\\beta_t = \\beta_0 \\cdot (1+t)^\\kappa\n",
    "$$"
   ]
  },
  {
   "cell_type": "code",
   "execution_count": 4,
   "id": "fcde2ee5",
   "metadata": {},
   "outputs": [],
   "source": [
    "@jtu.register_pytree_node_class\n",
    "\n",
    "class PolynomialEpsilon(Epsilon):\n",
    "    \"\"\"\n",
    "    Polynomial decay scheduler: epsilon_it = (it+1)^(-kappa) * target\n",
    "    \"\"\"\n",
    "    def __init__(self, target: jnp.ndarray, kappa: float, init: float = 1.0):\n",
    "        super().__init__(target=target, init=init, decay=1.0)\n",
    "        self.kappa = kappa\n",
    "\n",
    "    def __call__(self, it: Optional[int]) -> jnp.ndarray:\n",
    "        if it is None:\n",
    "            return self.target\n",
    "        multiple = ((it + 1) ** (-self.kappa))\n",
    "        return multiple * self.target\n",
    "\n",
    "    def __repr__(self) -> str:\n",
    "        return (\n",
    "            f\"{self.__class__.__name__}(target={self.target}, kappa={self.kappa},\"\n",
    "            f\" init={self.init})\"\n",
    "        )"
   ]
  },
  {
   "cell_type": "markdown",
   "id": "8c1cdf01",
   "metadata": {},
   "source": [
    "To track and study the suboptimality of the solution at each step, we use the following **projection-based function** — a method originally proposed in [Altschuler et al.] and also adopted in the paper to monitor convergence.\n",
    "\n"
   ]
  },
  {
   "cell_type": "code",
   "execution_count": 5,
   "id": "5056b6f3",
   "metadata": {},
   "outputs": [],
   "source": [
    "def projection_plan(p: jnp.ndarray, q: jnp.ndarray, gamma: jnp.ndarray) -> jnp.ndarray:\n",
    "    \"\"\"Projection algorithm to enforce marginal constraints  by Altschuler et al..\"\"\"\n",
    "    a = jnp.minimum(p / jnp.sum(gamma, axis=1), 1.0)\n",
    "    gamma_temp = a[:, None] * gamma\n",
    "    b = jnp.minimum(q / jnp.sum(gamma_temp, axis=0), 1.0)\n",
    "    gamma_temp = gamma_temp * b[None, :]\n",
    "    delta_p = p - jnp.sum(gamma_temp, axis=1)\n",
    "    delta_q = q - jnp.sum(gamma_temp, axis=0)\n",
    "    gamma_plan = gamma_temp + jnp.outer(delta_p, delta_q) / jnp.sum(delta_p)\n",
    "    return gamma_plan\n"
   ]
  },
  {
   "cell_type": "markdown",
   "id": "9a2714ce",
   "metadata": {},
   "source": [
    "## Data "
   ]
  },
  {
   "cell_type": "markdown",
   "id": "a11ea78a",
   "metadata": {},
   "source": [
    "<!-- We define the geometry we will consider , and in particular , we take 2 different setups, one with a structured cost (euclidean):= \n",
    "the second with an unstructured cost : to track the behaviour of the algo in a sort of worst case setup. -->\n",
    "\n",
    "We define the geometric setups used in our experiments, considering two different cost structures:\n",
    "\n",
    "1. **Structured cost (Euclidean)**:  \n",
    "   We use the standard squared Euclidean distance  \n",
    "   $ c(x_i, y_j) = \\|x_i - y_j\\|_2^2 $.\n",
    "\n",
    "2. **Unstructured cost**:  \n",
    "   We generate a random cost matrix to simulate a kind of worst-case scenario, allowing us to observe the algorithm's behavior under less favorable conditions.\n"
   ]
  },
  {
   "cell_type": "code",
   "execution_count": 6,
   "id": "c2eda5cc",
   "metadata": {},
   "outputs": [
    {
     "data": {
      "image/png": "[encoded data removed]",
      "text/plain": [
       "<Figure size 700x500 with 1 Axes>"
      ]
     },
     "metadata": {},
     "output_type": "display_data"
    },
    {
     "name": "stdout",
     "output_type": "stream",
     "text": [
      "Exact Optimal Transport cost: 0.077764\n"
     ]
    }
   ],
   "source": [
    "# ---------- Setting 1: structured cost : example from the paper ----------\n",
    "# Set Seaborn style\n",
    "sns.set(style=\"whitegrid\")\n",
    "key = jax.random.PRNGKey(1)\n",
    "# Source X \n",
    "m = 144\n",
    "ang = jax.random.uniform(key, (m,)) * jnp.pi; key, sub = jax.random.split(key)\n",
    "rad = jax.random.uniform(sub, (m,)) * 0.2 + 0.3; key, sub = jax.random.split(key)\n",
    "X1 = jnp.stack([rad * jnp.cos(ang), rad * jnp.sin(ang)], axis=1)\n",
    "\n",
    "ang2 = jax.random.uniform(sub, (m,)) * 2 * jnp.pi; key, sub = jax.random.split(key)\n",
    "rad2 = jax.random.uniform(sub, (m,)) * 0.1\n",
    "X2 = jnp.stack([rad2 * jnp.cos(ang2) - 0.3, rad2 * jnp.sin(ang2) + 0.4], axis=1)\n",
    "\n",
    "X = jnp.concatenate([X1, X2], axis=0)\n",
    "\n",
    "# Plot source points (X) in blue\n",
    "plt.figure(figsize=(7, 5))\n",
    "plt.scatter(X[:, 0], X[:, 1], color='blue', label='Source X', marker='*')\n",
    "\n",
    "# Target Y \n",
    "n = 144\n",
    "key, sub = jax.random.split(key)\n",
    "Y1 = jnp.stack([jax.random.uniform(sub, (n,)) - 0.5,\n",
    "                jax.random.uniform(sub, (n,)) * 0.15], axis=1)\n",
    "key, sub = jax.random.split(key)\n",
    "Y2 = jnp.stack([(jax.random.uniform(sub, (n,)) - 0.5) * 0.15,\n",
    "                jax.random.uniform(sub, (n,)) * 0.6], axis=1)\n",
    "\n",
    "Y = jnp.concatenate([Y1, Y2], axis=0)\n",
    "\n",
    "# Plot target points (Y) in red\n",
    "plt.scatter(Y[:, 0], Y[:, 1], color='red', label='Target Y', marker='*')\n",
    "\n",
    "# Add legend and axis settings\n",
    "plt.legend()\n",
    "plt.title('Setting 1: Source and Target Points')\n",
    "plt.axis('equal')\n",
    "plt.show()\n",
    "\n",
    "# Now defining p and q as uniform distributions over the source and target points\n",
    "p1 = jnp.ones(X.shape[0]) / X.shape[0]\n",
    "q1 = jnp.ones(Y.shape[0]) / Y.shape[0]\n",
    "\n",
    "# Compute the cost matrix c1 (Euclidean distance)\n",
    "diff = X[:, None, :] - Y[None, :, :]\n",
    "c1 = jnp.sum(diff**2, axis=2)\n",
    "c1 = (c1 - jnp.min(c1)) / (jnp.max(c1) - jnp.min(c1))\n",
    "\n",
    "# Create geometry object\n",
    "geom1 = pointcloud.PointCloud(X, Y, cost_matrix=c1)\n",
    "\n",
    "# Define the linear problem\n",
    "prob1 = linear_problem.LinearProblem(geom1, a=p1, b=q1)\n",
    "\n",
    "# Use `ot.emd2` to compute the optimal transport cost\n",
    "cost_exact_1= ot.emd2(p1, q1, c1)  # cost (transport distance)\n",
    "plans_exact_1 = ot.emd(p1, q1, c1)  # transport plan\n",
    "\n",
    "# Output the results\n",
    "print(f\"Exact Optimal Transport cost: {cost_exact_1:.6f}\")"
   ]
  },
  {
   "cell_type": "code",
   "execution_count": 7,
   "id": "d1305bd8",
   "metadata": {},
   "outputs": [
    {
     "data": {
      "image/png": "[encoded data removed]",
      "text/plain": [
       "<Figure size 700x500 with 1 Axes>"
      ]
     },
     "metadata": {},
     "output_type": "display_data"
    },
    {
     "name": "stdout",
     "output_type": "stream",
     "text": [
      "Exact Optimal Transport cost: 0.017582\n"
     ]
    }
   ],
   "source": [
    "\n",
    "# Set Seaborn style\n",
    "sns.set(style=\"whitegrid\")\n",
    "\n",
    "# ---------- Setting 1: Spiral vs Grid : structured cost ----------\n",
    "\n",
    "# Master key and subkey split\n",
    "master_key = jax.random.PRNGKey(42)\n",
    "key_spiral, key_grid = jax.random.split(master_key, 2)\n",
    "\n",
    "# Source X: Spiral\n",
    "m = 144\n",
    "theta = jnp.linspace(0, 4 * jnp.pi, m)\n",
    "r = jnp.linspace(0.1, 0.5, m)\n",
    "X = jnp.stack([r * jnp.cos(theta), r * jnp.sin(theta)], axis=1)\n",
    "\n",
    "# Target Y: Grid\n",
    "n = 144\n",
    "grid_size = int(jnp.sqrt(n))\n",
    "x_vals = jnp.linspace(-0.5, 0.5, grid_size)\n",
    "y_vals = jnp.linspace(-0.5, 0.5, grid_size)\n",
    "Xv, Yv = jnp.meshgrid(x_vals, y_vals)\n",
    "Y = jnp.stack([Xv.ravel(), Yv.ravel()], axis=1)\n",
    "\n",
    "# Plot source and target\n",
    "plt.figure(figsize=(7, 5))\n",
    "plt.scatter(X[:, 0], X[:, 1], color='blue', label='Source X (Spiral)', marker='*')\n",
    "plt.scatter(Y[:, 0], Y[:, 1], color='red', label='Target Y (Grid)', marker='*')\n",
    "plt.legend()\n",
    "plt.title('Setting 1 prime: Spiral vs Grid Point Clouds')\n",
    "plt.axis('equal')\n",
    "plt.show()\n",
    "\n",
    "# Uniform distributions over X and Y\n",
    "p12 = jnp.ones(X.shape[0]) / X.shape[0]\n",
    "q12 = jnp.ones(Y.shape[0]) / Y.shape[0]\n",
    "\n",
    "# Compute normalized cost matrix (squared Euclidean)\n",
    "diff2 = X[:, None, :] - Y[None, :, :]  # shape (m, n, 2)\n",
    "c12 = jnp.sum(diff2**2, axis=2)\n",
    "c12 = (c12 - jnp.min(c12)) / (jnp.max(c12) - jnp.min(c12))  # proper normalization to [0,1]\n",
    "\n",
    "# Geometry and linear problem definition\n",
    "geom12 = pointcloud.PointCloud(X, Y, cost_matrix=c12, epsilon=1e-8)\n",
    "prob12 = linear_problem.LinearProblem(geom12, a=p12, b=q12)\n",
    "\n",
    "# Exact OT computation (Sinkhorn regularization off (beta = ∞))\n",
    "cost_exact_12 = ot.emd2(p12, q12, c12)\n",
    "plans_exact_12 = ot.emd(p12, q12, c12)\n",
    "\n",
    "print(f\"Exact Optimal Transport cost: {cost_exact_12:.6f}\")\n"
   ]
  },
  {
   "cell_type": "code",
   "execution_count": 8,
   "id": "376a026f",
   "metadata": {},
   "outputs": [
    {
     "name": "stdout",
     "output_type": "stream",
     "text": [
      "Exact Optimal Transport cost: 0.266252\n"
     ]
    }
   ],
   "source": [
    "# ---------- Setting 2: Unstructured Random Cost ----------\n",
    "master_key = jax.random.PRNGKey(1)\n",
    "key_p, key_q, key_c = jax.random.split(master_key, 3)\n",
    "m, n = 144, 144\n",
    "\n",
    "# Generate random probability distributions p and q\n",
    "p2 = jax.random.uniform(key_p, (m,))\n",
    "q2 = jax.random.uniform(key_q, (n,))\n",
    "p2 /= jnp.sum(p2)\n",
    "q2 /= jnp.sum(q2)\n",
    "\n",
    "# Random cost matrix, normalized\n",
    "c2 = jax.random.normal(key_c, (m, n))\n",
    "c2 = (c2 - jnp.min(c2)) / (jnp.max(c2) - jnp.min(c2))\n",
    "\n",
    "# Create the geometry object with the random cost\n",
    "geom2 = geometry.Geometry(cost_matrix=c2)\n",
    "\n",
    "# Baseline : exact OT computation (beta = ∞)\n",
    "cost_exact_2 = ot.emd2(p2, q2, c2)\n",
    "plans_exact_2 = ot.emd(p2, q2, c2)\n",
    "\n",
    "print(f\"Exact Optimal Transport cost: {cost_exact_2:.6f}\")"
   ]
  },
  {
   "cell_type": "markdown",
   "id": "0449f649",
   "metadata": {},
   "source": [
    "## Annealed Sinkhorn- Debiased annealed Sinkhorn\n",
    "\n",
    "<!-- As highlighted the basic block is the schedule, but since we dont use the same regularization size at each step, this creates a bias\n",
    "which we could mitigate by slightly modifying the iterates expression as the following.\n",
    "\n",
    "\n",
    "followingly we test, showcase that on both examples, for biased and debiased . \n",
    "\n",
    "we use herein the previously defined projection fct : indeed and explain ... -->\n",
    "\n",
    "As highlighted earlier, the core component of the recipes we will be exploring is the **annealing schedule**. However, since the regularization strength (i.e., $\\beta_t$) varies across iterations, this introduces a **bias** in the resulting transport plans.\n",
    "\n",
    "To address this, an alternative could be to apply a slight modification to the update rule, leading to a **debiased version** of the algorithm.\n"
   ]
  },
  {
   "cell_type": "markdown",
   "id": "adaecb10",
   "metadata": {},
   "source": [
    " ⚙️ Algorithm 3: Debiased Annealed Sinkhorn (from the paper) \n",
    "\n",
    "**Input:**  \n",
    "- Probability vectors $p \\in \\Delta^*_m$, $q \\in \\Delta^*_n$  \n",
    "- Cost matrix $c \\in \\mathbb{R}^{m \\times n}$  \n",
    "- Annealing schedule $(\\beta_t)_{t \\geq 0}$\n",
    "\n",
    "**Initialize:**  \n",
    "- $b_0 = \\mathbf{1} \\in \\mathbb{R}^n$  \n",
    "- $K_0 = \\exp(-\\beta_0 \\cdot c) \\in \\mathbb{R}^{m \\times n}$\n",
    "\n",
    "**For** $t = 1, 2, 3, \\dots$:\n",
    "\n",
    "1. **Update scaling factor:**\n",
    "\n",
    "$$\n",
    "a_t = \\left( a_{t-1}^{1 - \\frac{\\beta_{(t−2)\\vee 0}}{\\beta_{t−1}}} \\odot p \\right) \\oslash (K_{t-1} b_{t-1})\n",
    "$$\n",
    "\n",
    "*Debiasing is introduced via the exponent term.*\n",
    "\n",
    "2. **Update kernel:**\n",
    "\n",
    "$$\n",
    "K_t = \\exp(-\\beta_t \\cdot c)\n",
    "$$\n",
    "\n",
    "3. **Update scaling vector:**\n",
    "\n",
    "$$\n",
    "b_t = q \\oslash (K_t^\\top a_t)\n",
    "$$\n",
    "\n",
    "4. **Compute transport plan:**\n",
    "\n",
    "$$\n",
    "\\pi_t = \\text{diag}(a_t) \\cdot K_t \\cdot \\text{diag}(b_t)\n",
    "$$\n"
   ]
  },
  {
   "cell_type": "markdown",
   "id": "cc5b10a7",
   "metadata": {},
   "source": [
    "Followingly, we will test both the vanilla annealed scheme and the debiased variant on both setups — **structured** and **unstructured** cost."
   ]
  },
  {
   "cell_type": "code",
   "execution_count": 9,
   "id": "6e38f242",
   "metadata": {},
   "outputs": [],
   "source": [
    "def sinkhorn_track(\n",
    "    p: jnp.ndarray,\n",
    "    q: jnp.ndarray,\n",
    "    c: jnp.ndarray,\n",
    "    niter: int = 100,\n",
    "    eps_sched : PolynomialEpsilon=None,\n",
    "    OT_cost: float = 0.0,\n",
    "    kappa: float = 0.0,\n",
    "    beta0: float = 1.0,\n",
    "    debiased: bool = True,\n",
    "    iter_stop: int = None,\n",
    "    plateau_length: int = 1,\n",
    ") -> tuple[jnp.ndarray, jnp.ndarray]:\n",
    "    \"\"\"Annealed Sinkhorn algorithm with tracking.\"\"\"\n",
    "    m, n = p.shape[0], q.shape[0]\n",
    "    if iter_stop is None:\n",
    "        iter_stop = niter\n",
    "\n",
    "    u, v = jnp.zeros(m), jnp.zeros(n)\n",
    "    lp, lq = jnp.log(p), jnp.log(q)\n",
    "    plans = jnp.zeros((niter, m, n))\n",
    "    err = jnp.zeros((niter,))\n",
    "    beta = beta0\n",
    "\n",
    "    for t in range(niter):\n",
    "        if debiased and (t < iter_stop):\n",
    "            inv_eps_prev = 1.0 / eps_sched(t-1) if t > 0 else 0.0\n",
    "            deb_term = (1/ eps_sched(t) -inv_eps_prev) / (1/ eps_sched(t)) * u\n",
    "            temp1 = (lq + v - beta * c) - deb_term[:, None]\n",
    "        else:\n",
    "            temp1 = v + lq - beta * c\n",
    "        stab1 = jnp.max(temp1, axis=1, keepdims=True)\n",
    "        u = -stab1.flatten() - jnp.log(jnp.sum(jnp.exp(temp1 - stab1), axis=1))\n",
    "\n",
    "        if (t < iter_stop) and (int(jnp.floor(jnp.sqrt(t + 1))) % plateau_length == 0):\n",
    "            beta = 1/eps_sched(t+1)\n",
    "\n",
    "        temp2 = u[:, None] + lp[:, None] - beta * c\n",
    "        stab2 = jnp.max(temp2, axis=0, keepdims=True)\n",
    "        v = -stab2.flatten() - jnp.log(jnp.sum(jnp.exp(temp2 - stab2), axis=0))\n",
    "\n",
    "        plan = jnp.exp(u[:, None] + lp[:, None] + v[None, :] + lq[None, :] - beta * c)\n",
    "        plan_proj = projection_plan(p, q, plan)\n",
    "        plans = plans.at[t].set(plan_proj)\n",
    "        err = err.at[t].set(jnp.sum(c * plan_proj) - OT_cost)\n",
    "\n",
    "    return plans, err"
   ]
  },
  {
   "cell_type": "code",
   "execution_count": 10,
   "id": "7921602e",
   "metadata": {},
   "outputs": [
    {
     "data": {
      "application/vnd.jupyter.widget-view+json": {
       "model_id": "316573f2268b478d9d9513a5848f5e90",
       "version_major": 2,
       "version_minor": 0
      },
      "text/plain": [
       "HBox(children=(Dropdown(description='Setting:', options=(('Geometric point cloud (paper)', 1), ('Unstructured …"
      ]
     },
     "metadata": {},
     "output_type": "display_data"
    },
    {
     "data": {
      "application/vnd.jupyter.widget-view+json": {
       "model_id": "7aaee5933d2947dc830f48ad75e8f2ce",
       "version_major": 2,
       "version_minor": 0
      },
      "text/plain": [
       "Output()"
      ]
     },
     "metadata": {},
     "output_type": "display_data"
    }
   ],
   "source": [
    "import ipywidgets as widgets\n",
    "from IPython.display import display , clear_output\n",
    "\n",
    "\n",
    "sns.set(style=\"whitegrid\")\n",
    "kappa = 0.5           \n",
    "beta_0 = 10.0  \n",
    "niter=1000\n",
    "\n",
    "# Widget for choosing setting and debiasing\n",
    "setting_widget = widgets.Dropdown(\n",
    "    options=[('Geometric point cloud (paper)', 1), ('Unstructured random', 2),('Geometric point cloud (spiral to grid)', 3) ],\n",
    "    value=1,\n",
    "    description='Setting:'\n",
    ")\n",
    "deBias_widget = widgets.Checkbox(\n",
    "    value=False,\n",
    "    description='Debiased'\n",
    ")\n",
    "\n",
    "# Function to run sinkhorn_track and return error curve\n",
    "def run_track(setting, debiased):\n",
    "    if setting == 1:\n",
    "        p, q, c, OT_cost = p1, q1, c1, cost_exact_1\n",
    "    elif setting == 2:\n",
    "        p, q, c, OT_cost = p2, q2, c2, cost_exact_2\n",
    "    else :\n",
    "        p, q, c, OT_cost = p12, q12, c12, cost_exact_12\n",
    "    eps_sched = PolynomialEpsilon(target=jnp.array(1.0 / beta_0), kappa=kappa)\n",
    "    _, err = sinkhorn_track(\n",
    "        p, q, c,\n",
    "        niter=niter,\n",
    "        eps_sched=eps_sched,\n",
    "        debiased=debiased,\n",
    "        OT_cost=OT_cost,\n",
    "        beta0=beta_0,\n",
    "        kappa=kappa\n",
    "    )\n",
    "    return err\n",
    "\n",
    "# Plot static suboptimality curve\n",
    "def plot_error(err, setting, debiased):\n",
    "    plt.figure(figsize=(6, 4))\n",
    "    sns.lineplot(x=jnp.arange(len(err)), y=err)\n",
    "    plt.title(f\"Annealed Sinkhorn (κ={kappa}, beta0={beta_0})\")\n",
    "    plt.xlabel(\"Iteration\")\n",
    "    plt.ylabel(r\"$\\text{Suboptimality: cost-}  \\text{OT}{\\epsilon \\to 0}$\")\n",
    "    plt.grid(True)\n",
    "    plt.show()\n",
    "\n",
    "# Button to trigger computation and plot\n",
    "toggle_button = widgets.Button(description=\"Run and Plot\")\n",
    "output = widgets.Output()\n",
    "\n",
    "def on_toggle_clicked(b):\n",
    "    with output:\n",
    "        output.clear_output()\n",
    "        err = run_track(setting_widget.value, deBias_widget.value)\n",
    "        plot_error(err, setting_widget.value, deBias_widget.value)\n",
    "\n",
    "toggle_button.on_click(on_toggle_clicked)\n",
    "\n",
    "# Display the widgets and output area\n",
    "display(widgets.HBox([setting_widget, deBias_widget, toggle_button]), output)"
   ]
  },
  {
   "cell_type": "markdown",
   "id": "eb7a7e92",
   "metadata": {},
   "source": [
    "## Symmetric sinkhorn  \n",
    "\n",
    "An important limitation of Sinkhorn’s algorithm is that, after a finite number of iterations, the output transport plan $\\pi_t$ can be **asymmetric** with respect to $p$ and $q$ — meaning it may satisfy only one of the marginal constraints exactly, while the other remains off. This asymmetry can be problematic or undesirable in certain applications where balanced or fully satisfied marginals are crucial, which motivated the symmetric variant of Sinkhorn. \n",
    "Here, we look at the symmetric variant of the previously discussed annealed scheme.\n"
   ]
  },
  {
   "cell_type": "markdown",
   "id": "c9e4f376",
   "metadata": {},
   "source": [
    "⚙️ Algorithm 4: Debiased Annealed Symmetric Sinkhorn  \n",
    "*(For the non-debiased version, set the exponents in red to 0)*\n",
    "\n",
    "**Input:**  \n",
    "- Probability vectors $p \\in \\Delta^*_m$, $q \\in \\Delta^*_n$  \n",
    "- Cost matrix $c \\in \\mathbb{R}^{m \\times n}$  \n",
    "- Annealing schedule $(\\beta_t)_{t \\geq 0}$\n",
    "\n",
    "**Initialize:**  \n",
    "- $a_0 = \\mathbf{1} \\in \\mathbb{R}^m$  \n",
    "- $b_0 = \\mathbf{1} \\in \\mathbb{R}^n$  \n",
    "- $K_0 = \\exp(-\\beta_0 \\cdot c) \\in \\mathbb{R}^{m \\times n}$\n",
    "\n",
    "**For** $t = 1, 2, 3, \\dots$:\n",
    "\n",
    "1. **Update scaling vectors:**\n",
    "\n",
    "$$\n",
    "a_t = \\left(a_{t-1}^{\\frac{1}{2} + \\left(1 - \\frac{\\beta_{(t-2) \\vee 0}}{\\beta_{t-1}}\\right)} \\odot \\left(\\frac{p}{K_{t-1} b_{t-1}}\\right)^{\\frac{1}{2}} \\right)\n",
    "$$\n",
    "\n",
    "$$\n",
    "b_t = \\left(b_{t-1}^{\\frac{1}{2} + \\left(1 - \\frac{\\beta_{(t-2) \\vee 0}}{\\beta_{t-1}}\\right)} \\odot \\left(\\frac{q}{K_{t-1}^\\top a_{t-1}}\\right)^{\\frac{1}{2}} \\right)\n",
    "$$\n",
    "\n",
    "2. **Update kernel with new temperature:**\n",
    "\n",
    "$$\n",
    "K_t = \\exp(-\\beta_t \\cdot c)\n",
    "$$\n",
    "\n",
    "3. **Compute transport plan (projected onto the simplex):**\n",
    "\n",
    "$$\n",
    "\\pi_t = \\text{normalize}\\left(\\text{diag}(a_t) \\cdot K_t \\cdot \\text{diag}(b_t)\\right)\n",
    "$$\n",
    "\n"
   ]
  },
  {
   "cell_type": "code",
   "execution_count": 11,
   "id": "a1e3733e",
   "metadata": {},
   "outputs": [],
   "source": [
    "def symmetric_sinkhorn_track(\n",
    "    p: jnp.ndarray,\n",
    "    q: jnp.ndarray,\n",
    "    c: jnp.ndarray,\n",
    "    niter: int = 100,\n",
    "    OT_cost: float = 0.0,\n",
    "    kappa: float = 0.0,\n",
    "    beta0: float = 1.0,\n",
    "    debiased: bool = True,\n",
    "    iter_stop: int | None = None,\n",
    "    plateau_length: int = 1,\n",
    "    eps_sched : PolynomialEpsilon=None\n",
    ") -> tuple[jnp.ndarray, jnp.ndarray]:\n",
    "    \"\"\"\n",
    "    Symmetric Annealed Sinkhorn  with projection.\n",
    "    \"\"\"\n",
    "    m, n = p.shape[0], q.shape[0]\n",
    "    iter_stop = niter if iter_stop is None else iter_stop\n",
    "    u = jnp.zeros(m)\n",
    "    v = jnp.zeros(n)\n",
    "    lp = jnp.log(p)\n",
    "    lq = jnp.log(q)\n",
    "\n",
    "    plans = jnp.zeros((niter, m, n))\n",
    "    err = jnp.zeros(niter)\n",
    "    beta = beta0\n",
    "\n",
    "    for t in range(niter):\n",
    "        inv_eps_prev = 1.0 / eps_sched(t-1) if t > 0 else 0.0\n",
    "        theta = (1 - (inv_eps_prev)/(1 / eps_sched(t))) if debiased else 0.0\n",
    "        # first potential update\n",
    "        temp1 = v - beta * c\n",
    "        stab1 = jnp.max(temp1, axis=1, keepdims=True)\n",
    "        u = (0.5 + theta)*u + 0.5*lp - 0.5*(stab1.flatten() + jnp.log(jnp.sum(jnp.exp(temp1 - stab1), axis=1)))\n",
    "        # second potential update\n",
    "        temp2 = u - beta * c\n",
    "        stab2 = jnp.max(temp2, axis=0, keepdims=True)\n",
    "        v = (0.5 + theta)*v + 0.5*lq - 0.5*(stab2.flatten() + jnp.log(jnp.sum(jnp.exp(temp2 - stab2), axis=0)))\n",
    "\n",
    "        # plan and normalize\n",
    "        plan = jnp.exp(u[:, None] + v[None, :] - beta * c)\n",
    "        plan = plan / jnp.sum(plan)\n",
    "        plan_proj = projection_plan(p, q, plan)\n",
    "\n",
    "        plans = plans.at[t].set(plan_proj)\n",
    "        err = err.at[t].set(jnp.sum(c * plan_proj) - OT_cost)\n",
    "\n",
    "        # schedule update\n",
    "        if (t < iter_stop) and (int(jnp.floor(jnp.sqrt(t + 1))) % plateau_length == 0):\n",
    "            beta = 1 / eps_sched(t+1)\n",
    "\n",
    "    return plans, err"
   ]
  },
  {
   "cell_type": "code",
   "execution_count": 12,
   "id": "0794b8b8",
   "metadata": {},
   "outputs": [
    {
     "data": {
      "application/vnd.jupyter.widget-view+json": {
       "model_id": "eaeb3f543eac4fbfbf654a8381f5de78",
       "version_major": 2,
       "version_minor": 0
      },
      "text/plain": [
       "HBox(children=(Dropdown(description='Setting:', options=(('Geometric point cloud(paper)', 1), ('Unstructured r…"
      ]
     },
     "metadata": {},
     "output_type": "display_data"
    },
    {
     "data": {
      "application/vnd.jupyter.widget-view+json": {
       "model_id": "87fd10c072d5472fb67a365948865bba",
       "version_major": 2,
       "version_minor": 0
      },
      "text/plain": [
       "Output()"
      ]
     },
     "metadata": {},
     "output_type": "display_data"
    }
   ],
   "source": [
    "sns.set(style=\"whitegrid\")\n",
    "\n",
    "# Widgets for selecting setting and toggling debiasing\n",
    "setting_widget = widgets.Dropdown(\n",
    "    options=[('Geometric point cloud(paper)', 1), ('Unstructured random', 2), ('Geometric point cloud (spiral to grid)', 3)],\n",
    "    value=1,\n",
    "    description='Setting:'\n",
    ")\n",
    "debiased_widget = widgets.Checkbox(\n",
    "    value=False,\n",
    "    description='Debiased'\n",
    ")\n",
    "run_button = widgets.Button(description=\"Run Symmetric Sinkhorn\")\n",
    "output = widgets.Output()\n",
    "\n",
    "def run_and_plot(_: widgets.Button):\n",
    "    with output:\n",
    "        output.clear_output()\n",
    "        # Pick the right data\n",
    "        if setting_widget.value == 1:\n",
    "            p, q, c, OT_cost = p1, q1, c1, cost_exact_1\n",
    "        elif setting_widget.value == 2:\n",
    "            p, q, c, OT_cost = p2, q2, c2, cost_exact_2\n",
    "        else :\n",
    "            p, q, c, OT_cost = p12, q12, c12, cost_exact_12\n",
    "\n",
    "        # Build epsilon schedule\n",
    "        eps_sched = PolynomialEpsilon(target=jnp.array(1.0 / beta_0), kappa=kappa)\n",
    "\n",
    "        # Run symmetric Sinkhorn track\n",
    "        plans, err = symmetric_sinkhorn_track(\n",
    "            p=p, q=q, c=c,\n",
    "            niter=niter,\n",
    "            OT_cost=OT_cost,\n",
    "            kappa=kappa,\n",
    "            beta0=beta_0,\n",
    "            debiased=debiased_widget.value,\n",
    "            eps_sched=eps_sched\n",
    "        )\n",
    "\n",
    "        # Plot suboptimality\n",
    "        plt.figure(figsize=(7, 4))\n",
    "        sns.lineplot(x=jnp.arange(niter), y=err)\n",
    "        plt.title(f\"Symmetric Annealed Sinkhorn (κ={kappa}, beta0={beta_0})\")\n",
    "        plt.xlabel(\"Iteration\")\n",
    "        plt.ylabel(r\"$\\text{Suboptimality: cost} - \\text{OT}_{\\epsilon \\to 0}$\")\n",
    "        plt.grid(True)\n",
    "        plt.show()\n",
    "\n",
    "run_button.on_click(run_and_plot)\n",
    "\n",
    "display(widgets.HBox([setting_widget, debiased_widget, run_button]), output)"
   ]
  },
  {
   "cell_type": "markdown",
   "id": "5ba730fc",
   "metadata": {},
   "source": [
    "## Comparison "
   ]
  },
  {
   "cell_type": "markdown",
   "id": "d80fa693",
   "metadata": {},
   "source": [
    "### 1- Pareto curves \n",
    "\n"
   ]
  },
  {
   "cell_type": "code",
   "execution_count": 13,
   "id": "83b19a1e",
   "metadata": {},
   "outputs": [
    {
     "data": {
      "application/vnd.jupyter.widget-view+json": {
       "model_id": "40fb388e529f418fa567dbc771926a1c",
       "version_major": 2,
       "version_minor": 0
      },
      "text/plain": [
       "HBox(children=(Dropdown(description='Setting:', options=(('Geometric point cloud (paper)', 1), ('Unstructured …"
      ]
     },
     "metadata": {},
     "output_type": "display_data"
    },
    {
     "data": {
      "application/vnd.jupyter.widget-view+json": {
       "model_id": "5034464ac50e4d94b078425ddd64d811",
       "version_major": 2,
       "version_minor": 0
      },
      "text/plain": [
       "Output()"
      ]
     },
     "metadata": {},
     "output_type": "display_data"
    }
   ],
   "source": [
    "sns.set(style=\"whitegrid\")\n",
    "# 1) Setting selector widget\n",
    "setting_pf = widgets.Dropdown(\n",
    "    options=[('Geometric point cloud (paper)', 1), ('Unstructured random', 2), ('Geometric point cloud (spiral to grid)', 3)],\n",
    "    value=1,\n",
    "    description='Setting:'\n",
    ")\n",
    "run_pf_button = widgets.Button(description=\"Run Pareto Front\")\n",
    "output_pf = widgets.Output()\n",
    "\n",
    "# 2) Callback\n",
    "def run_pareto_front(_):\n",
    "    # clear only this Output widget\n",
    "    output_pf.clear_output()\n",
    "    with output_pf:\n",
    "        # choose the correct data\n",
    "        if setting_pf.value == 1:\n",
    "            p_exp, q_exp, c_exp, OT_cost_exp = p1, q1, c1, cost_exact_1\n",
    "        elif setting_pf.value == 2:\n",
    "            p_exp, q_exp, c_exp, OT_cost_exp = p2, q2, c2, cost_exact_2\n",
    "        else :\n",
    "            p_exp, q_exp, c_exp, OT_cost_exp = p12, q12, c12, cost_exact_12\n",
    "\n",
    "        # rest of your code exactly as before…\n",
    "        niter_pf = 1000\n",
    "        beta0_pf = 10.0\n",
    "        eps_sched_12 = PolynomialEpsilon(target=jnp.array(1.0 / beta0_pf), kappa=0.5)\n",
    "        eps_sched_23 = PolynomialEpsilon(target=jnp.array(1.0 / beta0_pf), kappa=2/3)\n",
    "        \n",
    "\n",
    "        _, err_12 = sinkhorn_track(\n",
    "            p_exp, q_exp, c_exp,\n",
    "            niter=niter_pf, OT_cost=OT_cost_exp,\n",
    "            kappa=0.5, beta0=beta0_pf, debiased=False,\n",
    "            eps_sched=eps_sched_12\n",
    "        )\n",
    "        _, err_23 = sinkhorn_track(\n",
    "            p_exp, q_exp, c_exp,\n",
    "            niter=niter_pf, OT_cost=OT_cost_exp,\n",
    "            kappa=2/3, beta0=beta0_pf, debiased=True,\n",
    "            eps_sched=eps_sched_23\n",
    "        )\n",
    "\n",
    "        betas = jnp.logspace(1, 3, num=21)\n",
    "        err_tab = jnp.zeros((niter_pf, betas.shape[0]))\n",
    "        for idx, b0 in enumerate(betas):\n",
    "            eps_sched_0 = PolynomialEpsilon(target=jnp.array(1.0 / b0), kappa=0.0)\n",
    "            _, e = sinkhorn_track(\n",
    "                p_exp, q_exp, c_exp,\n",
    "                niter=niter_pf, OT_cost=OT_cost_exp,\n",
    "                kappa=0.0, beta0=b0, debiased=True,\n",
    "                eps_sched=eps_sched_0\n",
    "            )\n",
    "            err_tab = err_tab.at[:, idx].set(e)\n",
    "\n",
    "        plt.figure(figsize=(7,5))\n",
    "        plt.loglog(err_tab[:, 0], '--', color=(0/len(betas), 0.5, 0.8),label=f'Standard Sinkhorn, β0={betas[0]:.1e}')\n",
    "        plt.loglog(err_tab[:, -1], '--',color=(1, 0.5, 0.8), label=f'Standard Sinkhorn, β0={betas[-1]:.1e}')\n",
    "        for idx in range(betas.shape[0]):\n",
    "            plt.loglog(err_tab[:, idx], '--', color=(idx/len(betas), 0.5, 0.8), alpha=0.3)\n",
    "        plt.loglog(err_12, label='Annealed Sinkhorn, κ=1/2', lw=4)\n",
    "        plt.loglog(err_23, label='Debiased Annealed Sinkhorn, κ=2/3', lw=4)\n",
    "\n",
    "        iters = jnp.arange(500, niter_pf+1, 10)\n",
    "        plt.text(600, 2.5e-3, '-1/2', backgroundcolor='white', rotation=-20)\n",
    "        plt.plot(iters, iters**(-1/2)/19, 'k', lw=3)\n",
    "        plt.text(600, 5.4e-4, '-2/3', backgroundcolor='white', rotation=-25)\n",
    "        plt.plot(iters, iters**(-2/3)/30, 'k', lw=3)\n",
    "\n",
    "        plt.legend()\n",
    "        plt.xlabel('Iteration')\n",
    "        plt.ylabel('OT suboptimality after projection')\n",
    "        plt.grid(True)\n",
    "        plt.show()\n",
    "\n",
    "# 3) Wire it up and display\n",
    "run_pf_button.on_click(run_pareto_front)\n",
    "display(widgets.HBox([setting_pf, run_pf_button]), output_pf)"
   ]
  },
  {
   "cell_type": "markdown",
   "id": "39200702",
   "metadata": {},
   "source": [
    "**Comments** "
   ]
  },
  {
   "cell_type": "markdown",
   "id": "ccc4b4e9",
   "metadata": {},
   "source": [
    "<!-- The speed-accuracy Pareto front for Sinkhorn’s algorithm\n",
    "is defined as the pointwise minimum of the dashed curves; each point in this front is achieved\n",
    "for a different value of β, and thus for a different run of the algorithm.\n",
    " While Annealed Sinkhorn is far away from this front, the debiased version that we propose approaches or\n",
    "beats it -->\n",
    "The **speed–accuracy Pareto front** for Sinkhorn’s algorithm is defined as the pointwise minimum across the dashed curves, with each point corresponding to a different value of $\\beta$—and thus a separate run of the algorithm.\n",
    "\n",
    "While **Annealed Sinkhorn** lies away from this optimal front, the **Debiased Annealed Sinkhorn** seems to approach it or even outperforms it.\n"
   ]
  },
  {
   "cell_type": "markdown",
   "id": "689573e9",
   "metadata": {},
   "source": [
    "### Error scaling as a function of $\\kappa$ "
   ]
  },
  {
   "cell_type": "code",
   "execution_count": 14,
   "id": "fd3cd79d",
   "metadata": {},
   "outputs": [
    {
     "data": {
      "application/vnd.jupyter.widget-view+json": {
       "model_id": "bec17126024f43fda328bb9020d47164",
       "version_major": 2,
       "version_minor": 0
      },
      "text/plain": [
       "HBox(children=(Dropdown(description='Setting:', options=(('Geometric point cloud (paper)', 1), ('Unstructured …"
      ]
     },
     "metadata": {},
     "output_type": "display_data"
    },
    {
     "data": {
      "application/vnd.jupyter.widget-view+json": {
       "model_id": "3e8461c6c4714f0da13ab91e5c8a53ea",
       "version_major": 2,
       "version_minor": 0
      },
      "text/plain": [
       "Output()"
      ]
     },
     "metadata": {},
     "output_type": "display_data"
    }
   ],
   "source": [
    "# -------- Error vs Scaling Exponent κ --------\n",
    "\n",
    "sns.set(style=\"whitegrid\")\n",
    "\n",
    "# --- Widgets ---\n",
    "setting_se = widgets.Dropdown(\n",
    "    options=[('Geometric point cloud (paper)', 1), ('Unstructured random', 2), ('Geometric point cloud (spiral to grid)', 3)],\n",
    "    value=1,\n",
    "    description='Setting:'\n",
    ")\n",
    "run_se_button = widgets.Button(description=\"Run Error vs κ\")\n",
    "output_se = widgets.Output()\n",
    "\n",
    "# --- Callback ---\n",
    "def run_error_vs_kappa(_):\n",
    "    output_se.clear_output()\n",
    "    with output_se:\n",
    "        # choose data based on setting\n",
    "        if setting_se.value == 1:\n",
    "            p_exp, q_exp, c_exp, OT_cost_exp = p1, q1, c1, cost_exact_1\n",
    "        elif setting_se.value == 2:\n",
    "            p_exp, q_exp, c_exp, OT_cost_exp = p2, q2, c2, cost_exact_2\n",
    "        else: \n",
    "            p_exp, q_exp, c_exp, OT_cost_exp = p12, q12, c12, cost_exact_12\n",
    "\n",
    "        # your exact parameters\n",
    "        niter_se = 1000\n",
    "        beta0_se = 10.0\n",
    "        kappas = jnp.linspace(0.1, 1.0, 30)\n",
    "        err_se1 = jnp.zeros(kappas.shape[0])\n",
    "        err_se2 = jnp.zeros(kappas.shape[0])\n",
    "\n",
    "        # main loop unchanged\n",
    "        for idx, kap in enumerate(kappas):\n",
    "            eps_sched = PolynomialEpsilon(target=jnp.array(1.0 / beta0_se), kappa=kap)\n",
    "            _, e1 = sinkhorn_track(\n",
    "                p_exp, q_exp, c_exp,\n",
    "                niter=niter_se,\n",
    "                OT_cost=OT_cost_exp,\n",
    "                kappa=kap, beta0=beta0_se,\n",
    "                debiased=False,\n",
    "                eps_sched=eps_sched\n",
    "            )\n",
    "            err_se1 = err_se1.at[idx].set(e1[-1])\n",
    "\n",
    "            _, e2 = sinkhorn_track(\n",
    "                p_exp, q_exp, c_exp,\n",
    "                niter=niter_se,\n",
    "                OT_cost=OT_cost_exp,\n",
    "                kappa=kap, beta0=beta0_se,\n",
    "                debiased=True,\n",
    "                eps_sched=eps_sched\n",
    "            )\n",
    "            err_se2 = err_se2.at[idx].set(e2[-1])\n",
    "\n",
    "        # plot unchanged\n",
    "        plt.figure(figsize=(7,5))\n",
    "        plt.semilogy(kappas, err_se1, label='Annealed Sinkhorn', lw=3)\n",
    "        plt.semilogy(kappas, err_se2, label='Debiased Annealed Sinkhorn', lw=3)\n",
    "        plt.legend()\n",
    "        plt.xlabel('Exponent κ of annealing schedule')\n",
    "        plt.ylabel(f'OT suboptimality after projection at iteration {niter_se}')\n",
    "        plt.grid(True)\n",
    "        # highlight minima\n",
    "        min1 = jnp.argmin(err_se1)\n",
    "        min2 = jnp.argmin(err_se2)\n",
    "        plt.plot(kappas[min1], err_se1[min1], 'r*', ms=10)\n",
    "        plt.plot(kappas[min2], err_se2[min2], 'r*', ms=10)\n",
    "        plt.show()\n",
    "\n",
    "# --- Wire up and display ---\n",
    "run_se_button.on_click(run_error_vs_kappa)\n",
    "display(widgets.HBox([setting_se, run_se_button]), output_se)"
   ]
  },
  {
   "cell_type": "markdown",
   "id": "1f09b1ba",
   "metadata": {},
   "source": [
    "### Error scaling as a function of $\\beta_0$"
   ]
  },
  {
   "cell_type": "code",
   "execution_count": 15,
   "id": "212d3fe2",
   "metadata": {},
   "outputs": [
    {
     "data": {
      "application/vnd.jupyter.widget-view+json": {
       "model_id": "8a644897187e44b187f140ea447c2147",
       "version_major": 2,
       "version_minor": 0
      },
      "text/plain": [
       "HBox(children=(Dropdown(description='Setting:', options=(('Geometric point cloud (paper)', 1), ('Unstructured …"
      ]
     },
     "metadata": {},
     "output_type": "display_data"
    },
    {
     "data": {
      "application/vnd.jupyter.widget-view+json": {
       "model_id": "af2c86f1df7c447db619648a15e19e72",
       "version_major": 2,
       "version_minor": 0
      },
      "text/plain": [
       "Output()"
      ]
     },
     "metadata": {},
     "output_type": "display_data"
    }
   ],
   "source": [
    "sns.set(style=\"whitegrid\")\n",
    "\n",
    "# --- Widgets ---\n",
    "setting_se = widgets.Dropdown(\n",
    "    options=[('Geometric point cloud (paper)', 1), ('Unstructured random', 2), ('Geometric point cloud (spiral to grid)', 3)],\n",
    "    value=1,\n",
    "    description='Setting:'\n",
    ")\n",
    "run_se_button = widgets.Button(description=\"Run Error vs β₀\")\n",
    "output_se = widgets.Output()\n",
    "\n",
    "# --- Callback ---\n",
    "def run_error_vs_beta0(_):\n",
    "    output_se.clear_output()\n",
    "    with output_se:\n",
    "        # choose data based on setting\n",
    "        if setting_se.value == 1:\n",
    "            p_exp, q_exp, c_exp, OT_cost_exp = p1, q1, c1, cost_exact_1\n",
    "        elif setting_se.value == 2:\n",
    "            p_exp, q_exp, c_exp, OT_cost_exp = p2, q2, c2, cost_exact_2\n",
    "        else:\n",
    "            p_exp, q_exp, c_exp, OT_cost_exp = p12, q12, c12, cost_exact_12\n",
    "\n",
    "        # fixed kappa, varying beta0\n",
    "        niter_se = 1000\n",
    "        kappa_fixed = 0.5\n",
    "        beta0_list = jnp.arange(1, 31, 4)  # [1,6,11,16,21,26]\n",
    "        err_b1 = jnp.zeros(beta0_list.shape[0])\n",
    "        err_b2 = jnp.zeros(beta0_list.shape[0])\n",
    "\n",
    "        # loop over beta0 values\n",
    "        for idx, b0 in enumerate(beta0_list):\n",
    "            eps_sched = PolynomialEpsilon(target=jnp.array(1.0 / b0), kappa=kappa_fixed)\n",
    "\n",
    "            _, e1 = sinkhorn_track(\n",
    "                p_exp, q_exp, c_exp,\n",
    "                niter=niter_se,\n",
    "                OT_cost=OT_cost_exp,\n",
    "                kappa=kappa_fixed,\n",
    "                beta0=b0,\n",
    "                debiased=False,\n",
    "                eps_sched=eps_sched\n",
    "            )\n",
    "            err_b1 = err_b1.at[idx].set(e1[-1])\n",
    "\n",
    "            _, e2 = sinkhorn_track(\n",
    "                p_exp, q_exp, c_exp,\n",
    "                niter=niter_se,\n",
    "                OT_cost=OT_cost_exp,\n",
    "                kappa=kappa_fixed,\n",
    "                beta0=b0,\n",
    "                debiased=True,\n",
    "                eps_sched=eps_sched\n",
    "            )\n",
    "            err_b2 = err_b2.at[idx].set(e2[-1])\n",
    "\n",
    "        # plot\n",
    "        plt.figure(figsize=(7,5))\n",
    "        plt.semilogy(beta0_list, err_b1, label='Annealed Sinkhorn', lw=3, marker='o')\n",
    "        plt.semilogy(beta0_list, err_b2, label='Debiased Annealed Sinkhorn', lw=3, marker='o')\n",
    "        plt.legend()\n",
    "        plt.xlabel(r'Initial Regularization $\\beta_0$')\n",
    "        plt.ylabel(f'OT suboptimality after projection at iter={niter_se}')\n",
    "        plt.grid(True)\n",
    "        # highlight minima\n",
    "        min1 = int(jnp.argmin(err_b1))\n",
    "        min2 = int(jnp.argmin(err_b2))\n",
    "        plt.plot(beta0_list[min1], err_b1[min1], 'r*', ms=12)\n",
    "        plt.plot(beta0_list[min2], err_b2[min2], 'r*', ms=12)\n",
    "        plt.show()\n",
    "\n",
    "# --- Wire up and display ---\n",
    "run_se_button.on_click(run_error_vs_beta0)\n",
    "display(widgets.HBox([setting_se, run_se_button]), output_se)"
   ]
  },
  {
   "cell_type": "code",
   "execution_count": 16,
   "id": "3327510a",
   "metadata": {},
   "outputs": [
    {
     "data": {
      "application/vnd.jupyter.widget-view+json": {
       "model_id": "56bf4371667c42f5bffe053834e310d4",
       "version_major": 2,
       "version_minor": 0
      },
      "text/plain": [
       "HBox(children=(Dropdown(description='Setting:', options=(('Geometric point cloud (paper)', 1), ('Unstructured …"
      ]
     },
     "metadata": {},
     "output_type": "display_data"
    },
    {
     "data": {
      "application/vnd.jupyter.widget-view+json": {
       "model_id": "dfd01ea50cf948dcbf1c740a43b271a2",
       "version_major": 2,
       "version_minor": 0
      },
      "text/plain": [
       "Output()"
      ]
     },
     "metadata": {},
     "output_type": "display_data"
    }
   ],
   "source": [
    "sns.set(style=\"whitegrid\")\n",
    "\n",
    "# --- Widgets ---\n",
    "setting_se = widgets.Dropdown(\n",
    "    options=[('Geometric point cloud (paper)', 1), ('Unstructured random', 2), ('Geometric point cloud (spiral to grid)', 3)],\n",
    "    value=1,\n",
    "    description='Setting:'\n",
    ")\n",
    "run_se_button = widgets.Button(description=\"Run Error Dynamics\")\n",
    "output_se = widgets.Output()\n",
    "\n",
    "# --- Callback ---\n",
    "def run_error_dynamics(_):\n",
    "    output_se.clear_output()\n",
    "    with output_se:\n",
    "        # pick data\n",
    "        if setting_se.value == 1:\n",
    "            p_exp, q_exp, c_exp, OT_cost_exp = p1, q1, c1, cost_exact_1\n",
    "        elif setting_se.value == 2:\n",
    "            p_exp, q_exp, c_exp, OT_cost_exp = p2, q2, c2, cost_exact_2\n",
    "        else:\n",
    "            p_exp, q_exp, c_exp, OT_cost_exp = p12, q12, c12, cost_exact_12\n",
    "\n",
    "        niter_se = 1000\n",
    "        kappa_fixed = 0.5\n",
    "        beta0_list = jnp.arange(1, 31, 5)  # [1,6,11,16,21,26]\n",
    "\n",
    "        # allocate arrays: (num_beta, niter)\n",
    "        err_std = jnp.zeros((beta0_list.shape[0], niter_se))\n",
    "        err_db  = jnp.zeros_like(err_std)\n",
    "\n",
    "        # run for each beta0\n",
    "        for idx, b0 in enumerate(beta0_list):\n",
    "            eps_sched = PolynomialEpsilon(target=jnp.array(1.0 / b0), kappa=kappa_fixed)\n",
    "\n",
    "            _, e_std = sinkhorn_track(\n",
    "                p_exp, q_exp, c_exp,\n",
    "                niter=niter_se,\n",
    "                OT_cost=OT_cost_exp,\n",
    "                kappa=kappa_fixed,\n",
    "                beta0=b0,\n",
    "                debiased=False,\n",
    "                eps_sched=eps_sched\n",
    "            )\n",
    "            _, e_db = sinkhorn_track(\n",
    "                p_exp, q_exp, c_exp,\n",
    "                niter=niter_se,\n",
    "                OT_cost=OT_cost_exp,\n",
    "                kappa=kappa_fixed,\n",
    "                beta0=b0,\n",
    "                debiased=True,\n",
    "                eps_sched=eps_sched\n",
    "            )\n",
    "            err_std = err_std.at[idx].set(e_std)\n",
    "            err_db  = err_db.at[idx].set(e_db)\n",
    "\n",
    "        # plot all curves\n",
    "        plt.figure(figsize=(8,6))\n",
    "        its = jnp.arange(1, niter_se+1)\n",
    "        for idx, b0 in enumerate(beta0_list):\n",
    "            plt.semilogy(its, err_std[idx],  '-', label=f'β₀={int(b0)} std')\n",
    "            plt.semilogy(its, err_db[idx],   '--', label=f'β₀={int(b0)} db')\n",
    "\n",
    "        plt.xlabel('Iteration')\n",
    "        plt.ylabel(f'OT suboptimality (κ={kappa_fixed})')\n",
    "        plt.title(r'Error vs Iteration for varying $\\beta_0$')\n",
    "        plt.grid(True)\n",
    "        plt.legend(ncol=2, fontsize='small')\n",
    "        plt.tight_layout()\n",
    "        plt.show()\n",
    "\n",
    "# --- Wire up and display ---\n",
    "run_se_button.on_click(run_error_dynamics)\n",
    "display(widgets.HBox([setting_se, run_se_button]), output_se)"
   ]
  },
  {
   "cell_type": "markdown",
   "id": "19ca9cd1",
   "metadata": {},
   "source": [
    "### 2-Polynomial versus piecewise constant schedules "
   ]
  },
  {
   "cell_type": "code",
   "execution_count": 17,
   "id": "ed89ee88",
   "metadata": {},
   "outputs": [
    {
     "data": {
      "application/vnd.jupyter.widget-view+json": {
       "model_id": "0e42293ac7ab453ba246badafe43af59",
       "version_major": 2,
       "version_minor": 0
      },
      "text/plain": [
       "HBox(children=(Dropdown(description='Setting:', options=(('Geometric point cloud (paper)', 1), ('Unstructured …"
      ]
     },
     "metadata": {},
     "output_type": "display_data"
    },
    {
     "data": {
      "application/vnd.jupyter.widget-view+json": {
       "model_id": "6f483e96b07141c49ed452fe0e779916",
       "version_major": 2,
       "version_minor": 0
      },
      "text/plain": [
       "Output()"
      ]
     },
     "metadata": {},
     "output_type": "display_data"
    }
   ],
   "source": [
    "\n",
    "sns.set(style=\"whitegrid\")\n",
    "\n",
    "# --- Widget for choosing dataset setting ---\n",
    "setting_pl = widgets.Dropdown(\n",
    "    options=[('Geometric point cloud (paper)', 1), ('Unstructured random', 2), ('Geometric point cloud (spiral to grid)', 3)],\n",
    "    value=1,\n",
    "    description='Setting:'\n",
    ")\n",
    "run_pl_button = widgets.Button(description=\"Run Plateau Comparison\")\n",
    "output_pl = widgets.Output()\n",
    "\n",
    "def run_plateau_comparison(_):\n",
    "    output_pl.clear_output()\n",
    "    with output_pl:\n",
    "        # select data based on widget\n",
    "        if setting_pl.value == 1:\n",
    "            p_sel, q_sel, c_sel, OT_sel =  p1, q1, c1, cost_exact_1\n",
    "        elif setting_pl.value == 2:\n",
    "            p_sel, q_sel, c_sel, OT_sel = p2, q2, c2, cost_exact_2\n",
    "        else: \n",
    "            p_sel, q_sel, c_sel, OT_sel =  p12, q12, c12, cost_exact_12\n",
    "        # parameters\n",
    "        niter = 1000\n",
    "        beta0 = 10.0\n",
    "\n",
    "        # κ=1/2, plateau=1\n",
    "        eps_12_pl1 = PolynomialEpsilon(target=jnp.array(1.0/beta0), kappa=0.5)\n",
    "        _, err1 = sinkhorn_track(\n",
    "            p_sel, q_sel, c_sel,\n",
    "            niter=niter,\n",
    "            OT_cost=float(OT_sel),\n",
    "            kappa=0.5, beta0=beta0,\n",
    "            debiased=False,\n",
    "            plateau_length=1,\n",
    "            eps_sched=eps_12_pl1\n",
    "        )\n",
    "        # κ=1/2, plateau=8\n",
    "        eps_12_pl8 = PolynomialEpsilon(target=jnp.array(1.0/beta0), kappa=0.5)\n",
    "        _, err2 = sinkhorn_track(\n",
    "            p_sel, q_sel, c_sel,\n",
    "            niter=niter,\n",
    "            OT_cost=float(OT_sel),\n",
    "            kappa=0.5, beta0=beta0,\n",
    "            debiased=False,\n",
    "            plateau_length=8,\n",
    "            eps_sched=eps_12_pl8\n",
    "        )\n",
    "\n",
    "        # κ=3/4, plateau=1\n",
    "        eps_34_pl1 = PolynomialEpsilon(target=jnp.array(1.0/beta0), kappa=0.75)\n",
    "        _, errb1 = sinkhorn_track(\n",
    "            p_sel, q_sel, c_sel,\n",
    "            niter=niter,\n",
    "            OT_cost=float(OT_sel),\n",
    "            kappa=0.75, beta0=beta0,\n",
    "            debiased=False,\n",
    "            plateau_length=1,\n",
    "            eps_sched=eps_34_pl1\n",
    "        )\n",
    "        # κ=3/4, plateau=8\n",
    "        eps_34_pl8 = PolynomialEpsilon(target=jnp.array(1.0/beta0), kappa=0.75)\n",
    "        _, errb2 = sinkhorn_track(\n",
    "            p_sel, q_sel, c_sel,\n",
    "            niter=niter,\n",
    "            OT_cost=float(OT_sel),\n",
    "            kappa=0.75, beta0=beta0,\n",
    "            debiased=False,\n",
    "            plateau_length=8,\n",
    "            eps_sched=eps_34_pl8\n",
    "        )\n",
    "\n",
    "        # κ=2/3 debiased, plateau=1\n",
    "        eps_23_db = PolynomialEpsilon(target=jnp.array(1.0/beta0), kappa=2/3)\n",
    "        _, errc1 = sinkhorn_track(\n",
    "            p_sel, q_sel, c_sel,\n",
    "            niter=niter,\n",
    "            OT_cost=float(OT_sel),\n",
    "            kappa=2/3, beta0=beta0,\n",
    "            debiased=True,\n",
    "            plateau_length=1,\n",
    "            eps_sched=eps_23_db\n",
    "        )\n",
    "\n",
    "        # Plotting (unchanged)\n",
    "        plt.figure(figsize=(7,5))\n",
    "        plt.loglog(err1,  label='κ=1/2, plateau=1', lw=3)\n",
    "        plt.semilogy(err2, '--', label='κ=1/2, plateau=8')\n",
    "        plt.semilogy(errb1, label='κ=3/4, plateau=1', lw=3)\n",
    "        plt.semilogy(errb2, '--', label='κ=3/4, plateau=8')\n",
    "        plt.semilogy(errc1, label='κ=2/3, debiased', lw=3)\n",
    "        plt.xlabel('Iteration')\n",
    "        plt.ylabel('OT suboptimality after projection')\n",
    "        plt.grid(True)\n",
    "        plt.legend()\n",
    "        plt.show()\n",
    "\n",
    "# Wire it up and display\n",
    "run_pl_button.on_click(run_plateau_comparison)\n",
    "display(widgets.HBox([setting_pl, run_pl_button]), output_pl)\n"
   ]
  },
  {
   "cell_type": "markdown",
   "id": "4abe1ae5",
   "metadata": {},
   "source": [
    "### Symmetric sinkhorn comparison "
   ]
  },
  {
   "cell_type": "code",
   "execution_count": 18,
   "id": "faa7e460",
   "metadata": {},
   "outputs": [
    {
     "data": {
      "application/vnd.jupyter.widget-view+json": {
       "model_id": "39fb746564c542cc855db6f132f98307",
       "version_major": 2,
       "version_minor": 0
      },
      "text/plain": [
       "HBox(children=(Dropdown(description='Setting:', options=(('Geometric point cloud (paper)', 1), ('Unstructured …"
      ]
     },
     "metadata": {},
     "output_type": "display_data"
    },
    {
     "data": {
      "application/vnd.jupyter.widget-view+json": {
       "model_id": "7617d3ba548a421eb60261b19bc0f24f",
       "version_major": 2,
       "version_minor": 0
      },
      "text/plain": [
       "Output()"
      ]
     },
     "metadata": {},
     "output_type": "display_data"
    }
   ],
   "source": [
    "sns.set(style=\"whitegrid\")\n",
    "\n",
    "# --- Widgets for choosing dataset setting ---\n",
    "setting_ss = widgets.Dropdown(\n",
    "    options=[('Geometric point cloud (paper)', 1), ('Unstructured random', 2), ('Geometric point cloud (spiral to grid)', 3)],\n",
    "    value=1,\n",
    "    description='Setting:'\n",
    ")\n",
    "run_ss_button = widgets.Button(description=\"Run Symmetric Comparison\")\n",
    "output_ss = widgets.Output()\n",
    "\n",
    "def run_symmetric_comparison(_):\n",
    "    output_ss.clear_output()\n",
    "    with output_ss:\n",
    "        # select data based on widget\n",
    "        if setting_ss.value == 1:\n",
    "            p_sel, q_sel, c_sel, OT_sel = p1, q1, c1, cost_exact_1\n",
    "        elif setting_ss.value == 2:\n",
    "            p_sel, q_sel, c_sel, OT_sel = p2, q2, c2, cost_exact_2\n",
    "        else: \n",
    "            p_sel, q_sel, c_sel, OT_sel = p12, q12, c12, cost_exact_12\n",
    "        # your parameters\n",
    "        niter_sym = 1000\n",
    "        beta_0 = 10.0\n",
    "        beta0 = 10.0  # for debiased run\n",
    "        kappa_an = 0.5\n",
    "        kappa_db = 2/3\n",
    "\n",
    "        # initialize same ε-schedule if needed (example)\n",
    "        eps_sched_an_1 = PolynomialEpsilon(target=jnp.array(1.0 / beta_0), kappa=kappa_an)\n",
    "        eps_sched_an_2 = PolynomialEpsilon(target=jnp.array(1.0 / beta_0), kappa=kappa_an)\n",
    "        eps_sched_db_1 = PolynomialEpsilon(target=jnp.array(1.0 / beta0),  kappa=kappa_db)\n",
    "        eps_sched_db_2 = PolynomialEpsilon(target=jnp.array(1.0 / beta0),  kappa=kappa_db)\n",
    "\n",
    "        # runs as before\n",
    "        _, err_as   = sinkhorn_track(  p_sel, q_sel, c_sel,\n",
    "                                       niter=niter_sym, OT_cost=float(OT_sel),\n",
    "                                       kappa=kappa_an, beta0=beta_0, debiased=False,\n",
    "                                       eps_sched=eps_sched_an_1)\n",
    "        _, err_sym  = symmetric_sinkhorn_track( p_sel, q_sel, c_sel,\n",
    "                                                niter=niter_sym, OT_cost=float(OT_sel),\n",
    "                                                kappa=kappa_an, beta0=beta_0, debiased=False,\n",
    "                                                eps_sched=eps_sched_an_2)\n",
    "        _, err_as_d = sinkhorn_track(  p_sel, q_sel, c_sel,\n",
    "                                       niter=niter_sym, OT_cost=float(OT_sel),\n",
    "                                       kappa=kappa_db, beta0=beta0, debiased=True,\n",
    "                                       eps_sched=eps_sched_db_1)\n",
    "        _, err_sym_d= symmetric_sinkhorn_track( p_sel, q_sel, c_sel,\n",
    "                                                niter=niter_sym, OT_cost=float(OT_sel),\n",
    "                                                kappa=kappa_db, beta0=beta_0, debiased=True,\n",
    "                                                eps_sched=eps_sched_db_2)\n",
    "\n",
    "        # plotting unchanged\n",
    "        plt.figure(figsize=(7,5))\n",
    "\n",
    "        plt.loglog(err_as,   label='Annealed Sinkhorn',             lw=3)\n",
    "        plt.loglog(err_sym,   label='Symmetric Annealed',             lw=3)\n",
    "        plt.loglog(err_as_d,   label='Debiased Annealed',             lw=3)\n",
    "        plt.loglog(err_sym_d, label='Debiased Symmetric Annealed',    lw=3)\n",
    "        plt.xlabel('Iteration')\n",
    "        plt.ylabel('OT suboptimality after projection')\n",
    "        plt.grid(True)\n",
    "        plt.legend()\n",
    "        plt.show()\n",
    "\n",
    "run_ss_button.on_click(run_symmetric_comparison)\n",
    "display(widgets.HBox([setting_ss, run_ss_button]), output_ss)"
   ]
  },
  {
   "cell_type": "markdown",
   "id": "edd08595",
   "metadata": {},
   "source": [
    "In this experiment, the **symmetric version** runs more slowly, and **debiasing does not bring any clear improvement**."
   ]
  },
  {
   "cell_type": "markdown",
   "id": "b12107ae",
   "metadata": {},
   "source": [
    "### 3- Sinkhorn path observation "
   ]
  },
  {
   "cell_type": "markdown",
   "id": "2f8ed242",
   "metadata": {},
   "source": [
    "The solution to the proxy path, for given parameters $\\alpha$ and $\\beta$: $$\\min \\langle c,\\pi\\rangle +\\frac{1}{\\alpha}KL(\\pi^\\top \\mathbf{1}|p)+\\iota_{\\{q\\}}(\\pi^\\top \\mathbf{1}) +\\frac{1}{\\beta}KL(\\pi,\\pi^{\\mathbf{ref}})$$\n",
    "where $\\pi^{\\mathbf{ref}}=(mn)^{-1}\\mathbf{1}\\mathbf{1}^\\top$\n",
    "Alternate maximization on the dual problem is performed . The equations are as follows:\n",
    "$$\n",
    "K=e^{-\\beta c}\\pi^{\\mathbf{ref}}, \\quad a_{t+1} = \\Big( \\frac{p}{Kb_t}\\Big)^{\\beta/(\\beta+\\alpha)}, \\quad b_{t+1} = \\frac{q}{K^\\top a_{t+1}}.\n",
    "$$\n",
    "and we return the plan $\\pi_t=\\mathrm{diag}(a_t)K\\mathrm{diag}(b_t)$. "
   ]
  },
  {
   "cell_type": "code",
   "execution_count": 19,
   "id": "4c85e973",
   "metadata": {},
   "outputs": [],
   "source": [
    "def proxy_path_step(p: jnp.ndarray, q: jnp.ndarray, c: jnp.ndarray,\n",
    "                     alpha: float, beta: float,\n",
    "                     u_init: jnp.ndarray, v_init: jnp.ndarray,\n",
    "                     niter: int = 10) -> tuple[jnp.ndarray, jnp.ndarray, jnp.ndarray]:\n",
    "    \"\"\"\n",
    "    Single proxy path iteration block (warm-started).\n",
    "    Returns: transport plan, updated u, v\n",
    "    \"\"\"\n",
    "    u, v = u_init, v_init\n",
    "    lp = jnp.log(p)\n",
    "    lq = jnp.log(q)\n",
    "    theta = beta / (alpha + beta)\n",
    "    for _ in range(niter):\n",
    "        # update u\n",
    "        temp1 = v + lq - beta * c\n",
    "        stab1 = jnp.max(temp1, axis=1, keepdims=True)\n",
    "        u = (-(stab1.flatten()) - jnp.log(jnp.sum(jnp.exp(temp1 - stab1), axis=1))) * theta + (theta - 1) * lp\n",
    "        # update v\n",
    "        temp2 = u + lp - beta * c\n",
    "        stab2 = jnp.max(temp2, axis=0, keepdims=True)\n",
    "        v = -(stab2.flatten()) - jnp.log(jnp.sum(jnp.exp(temp2 - stab2), axis=0))\n",
    "    plan = jnp.exp(u[:, None] + lp[:, None] + v[None, :] + lq[None, :] - beta * c)\n",
    "    return plan, u, v\n",
    "\n",
    "\n"
   ]
  },
  {
   "cell_type": "code",
   "execution_count": 20,
   "id": "ef98afb8",
   "metadata": {},
   "outputs": [],
   "source": [
    "def proxy_path(p: jnp.ndarray, q: jnp.ndarray, c: jnp.ndarray,\n",
    "               alphas: jnp.ndarray, betas: jnp.ndarray) -> jnp.ndarray:\n",
    "    \"\"\"\n",
    "    Build proxy path over schedule defined by alphas, betas.\n",
    "    \"\"\"\n",
    "    T = alphas.shape[0]\n",
    "    m, n = p.shape[0], q.shape[0]\n",
    "    path = jnp.zeros((T, m, n))\n",
    "    u = jnp.zeros(m)\n",
    "    v = jnp.zeros(n)\n",
    "    niter = 100\n",
    "    for t in range(T):\n",
    "        plan_t, u, v = proxy_path_step(p, q, c,\n",
    "                                      float(alphas[t]), float(betas[t]),\n",
    "                                      u, v, niter=niter)\n",
    "        path = path.at[t].set(plan_t)\n",
    "        niter = 50\n",
    "    return path\n",
    "\n",
    "\n"
   ]
  },
  {
   "cell_type": "code",
   "execution_count": 21,
   "id": "437ed1ca",
   "metadata": {},
   "outputs": [],
   "source": [
    "def sinkhorn_path(p: jnp.ndarray, q: jnp.ndarray, c: jnp.ndarray,\n",
    "                   niter: int = 100, kappa: float = 0.0, beta0: float = 1.0,\n",
    "                   debiased: bool = True, eps_sched: PolynomialEpsilon = None) -> tuple[jnp.ndarray, jnp.ndarray]:\n",
    "    \"\"\"\n",
    "    Compute Sinkhorn path and schedule betas (without projection).\n",
    "    Returns: path[T, m, n], betas[T]\n",
    "    \"\"\"\n",
    "    m, n = p.shape[0], q.shape[0]\n",
    "    u = jnp.zeros(m)\n",
    "    v = jnp.zeros(n)\n",
    "    lp = jnp.log(p)\n",
    "    lq = jnp.log(q)\n",
    "    path = jnp.zeros((niter, m, n))\n",
    "    betas = jnp.zeros(niter)\n",
    "    beta = beta0\n",
    "    for t in range(niter):  \n",
    "        betas = betas.at[t].set(beta)\n",
    "      \n",
    "        # dual update 1\n",
    "        if debiased:\n",
    "            inv_eps_prev = 1.0 / eps_sched(t-1) if t > 0 else 0.0\n",
    "            deb = (1/ eps_sched(t) - inv_eps_prev) / (1/ eps_sched(t)) * u\n",
    "            temp1 = (lq + v - beta * c) - deb[:, None]\n",
    "        else:\n",
    "            temp1 = v + lq - beta * c\n",
    "        stab1 = jnp.max(temp1, axis=1, keepdims=True)\n",
    "        u = -stab1.flatten() - jnp.log(jnp.sum(jnp.exp(temp1 - stab1), axis=1))\n",
    "        # update beta\n",
    "        beta = 1/eps_sched(t+1)\n",
    "        # dual update 2\n",
    "        temp2 = u[:, None] + lp[:, None] - beta * c\n",
    "        stab2 = jnp.max(temp2, axis=0, keepdims=True)\n",
    "        v = -stab2.flatten() - jnp.log(jnp.sum(jnp.exp(temp2 - stab2), axis=0))\n",
    "        # transport plan\n",
    "        path_t = jnp.exp(u[:, None] + lp[:, None] + v[None, :] + lq[None, :] - beta * c)\n",
    "        path = path.at[t].set(path_t)\n",
    "    return path, betas\n",
    "\n"
   ]
  },
  {
   "cell_type": "code",
   "execution_count": 22,
   "id": "03770ac4",
   "metadata": {},
   "outputs": [
    {
     "data": {
      "application/vnd.jupyter.widget-view+json": {
       "model_id": "87f73442f736426bbbbe7361050bd206",
       "version_major": 2,
       "version_minor": 0
      },
      "text/plain": [
       "HBox(children=(Dropdown(description='Setting:', options=(('Geometric point cloud (paper)', 1), ('Unstructured …"
      ]
     },
     "metadata": {},
     "output_type": "display_data"
    },
    {
     "data": {
      "application/vnd.jupyter.widget-view+json": {
       "model_id": "954c82faadd94710ba5a2fe719797e55",
       "version_major": 2,
       "version_minor": 0
      },
      "text/plain": [
       "Output()"
      ]
     },
     "metadata": {},
     "output_type": "display_data"
    }
   ],
   "source": [
    "sns.set(style=\"whitegrid\")\n",
    "\n",
    "# Widgets for choosing dataset and debiased flag\n",
    "setting_pp = widgets.Dropdown(\n",
    "    options=[('Geometric point cloud (paper)', 1), ('Unstructured random', 2), ('Geometric point cloud (spiral to grid)', 3)],\n",
    "    value=1,\n",
    "    description='Setting:'\n",
    ")\n",
    "debiased_pp = widgets.Checkbox(\n",
    "    value=False,\n",
    "    description='Debiased'\n",
    ")\n",
    "run_pp_button = widgets.Button(description=\"Run Proxy vs Optimal\")\n",
    "output_pp = widgets.Output()\n",
    "\n",
    "def run_proxy_vs_optimal(_):\n",
    "    output_pp.clear_output()\n",
    "    with output_pp:\n",
    "        # select data\n",
    "        if setting_pp.value == 1:\n",
    "            p_sel, q_sel, c_sel, OT_sel = p1, q1, c1, cost_exact_1\n",
    "        elif setting_pp.value == 2:\n",
    "            p_sel, q_sel, c_sel, OT_sel = p2, q2, c2, cost_exact_2\n",
    "        else: \n",
    "            p_sel, q_sel, c_sel, OT_sel = p12, q12, c12, cost_exact_12\n",
    "\n",
    "        niter = 1000\n",
    "        beta0 = 10.0\n",
    "        schedules = [0.25, 0.5, 0.75]\n",
    "\n",
    "        opt_paths = []\n",
    "        prox_paths = []\n",
    "        for kappa in schedules:\n",
    "            # build schedule per kappa\n",
    "            eps_sched = PolynomialEpsilon(target=jnp.array(1.0/beta0), kappa=kappa)\n",
    "\n",
    "            # optimal path\n",
    "            path_opt, betas = sinkhorn_path(\n",
    "                p_sel, q_sel, c_sel,\n",
    "                niter=niter,\n",
    "                kappa=kappa,\n",
    "                beta0=beta0,\n",
    "                debiased=debiased_pp.value,\n",
    "                eps_sched=eps_sched\n",
    "            )\n",
    "            alphas = betas[1:] - betas[:-1]\n",
    "\n",
    "            # proxy path\n",
    "            path_proxy = proxy_path(p_sel, q_sel, c_sel, alphas, betas[:-1])\n",
    "\n",
    "            opt_paths.append(path_opt)\n",
    "            prox_paths.append(path_proxy)\n",
    "\n",
    "        # compute marginal errors\n",
    "        errors = {}\n",
    "        for idx, kappa in enumerate(schedules):\n",
    "            opt = opt_paths[idx]\n",
    "            prox = prox_paths[idx]\n",
    "            err_prox = jnp.array([\n",
    "                jnp.sum(jnp.abs(jnp.sum(prox[t], axis=1) - p_sel))\n",
    "                for t in range(niter-1)\n",
    "            ])\n",
    "            err_opt = jnp.array([\n",
    "                jnp.sum(jnp.abs(jnp.sum(opt[t], axis=1) - p_sel))\n",
    "                for t in range(niter-1)\n",
    "            ])\n",
    "            err_diff = jnp.array([\n",
    "                jnp.sum(jnp.abs(jnp.sum(opt[t], axis=1) - jnp.sum(prox[t], axis=1)))\n",
    "                for t in range(niter-1)\n",
    "            ])\n",
    "            errors[kappa] = (err_prox, err_opt, err_diff)\n",
    "\n",
    "        # plotting\n",
    "        plt.figure(figsize=(7,5))\n",
    "        # dummy for legend\n",
    "        plt.loglog([errors[0.5][0][0]], 'k', label=r'$\\|\\pi_t^{reg}1 - p\\|_1$')\n",
    "        plt.plot([errors[0.5][1][0]], 'k+', label=r'$\\|\\pi_t1 - p\\|_1$')\n",
    "        plt.plot([errors[0.5][2][0]], ':k', label=r'$\\|\\pi_t1 - \\pi_t^{reg}1\\|_1$')\n",
    "\n",
    "        colors = {0.25:'C1', 0.5:'C0', 0.75:'C2'}\n",
    "        for kappa in schedules:\n",
    "            err_prox, err_opt, err_diff = errors[kappa]\n",
    "            plt.loglog(err_prox, label=fr'$\\kappa={kappa}$', color=colors[kappa], lw=3)\n",
    "            plt.loglog(err_opt, f'{colors[kappa]}+', markersize=4)\n",
    "            plt.loglog(err_diff, f':{colors[kappa]}')\n",
    "\n",
    "        # slope lines\n",
    "        its = jnp.arange(500, niter+1, 10)\n",
    "        plt.text(600, 0.16, '-1/4')\n",
    "        plt.plot(its, its**(-0.25)/1.7, 'k', lw=3)\n",
    "        plt.text(600, 0.022, '-1/2')\n",
    "        plt.plot(its, its**(-0.5)/2.2, 'k', lw=3)\n",
    "        plt.text(600, 0.0021, '-3/4')\n",
    "        plt.plot(its, its**(-0.75)/4.5, 'k', lw=3)\n",
    "\n",
    "        plt.legend(ncol=2, fontsize='large')\n",
    "        plt.grid(True)\n",
    "        plt.xlabel('Iteration count')\n",
    "        plt.ylabel('-error on first marginal')\n",
    "        plt.tight_layout()\n",
    "        plt.show()\n",
    "\n",
    "# Wire up and display\n",
    "run_pp_button.on_click(run_proxy_vs_optimal)\n",
    "display(widgets.HBox([setting_pp, debiased_pp, run_pp_button]), output_pp)\n"
   ]
  },
  {
   "cell_type": "markdown",
   "id": "0665136b",
   "metadata": {},
   "source": [
    "\n",
    "\n",
    "Under the “geometric” cost setup (from the paper):\n",
    "\n",
    "- The regularization path $\\| \\pi^{\\text{reg}}_t \\mathbf{1} - p \\|_1$ is expected to follow the rate $\\Theta(t^{\\kappa - 1})$, and it closely matches the actual optimization path $\\| \\pi_t \\mathbf{1} - p \\|_1$.\n",
    "\n",
    "- The gap between both paths (shown as dotted lines in the plots) is much smaller—more than **an order of magnitude** less.\n"
   ]
  },
  {
   "cell_type": "markdown",
   "id": "67472dc7",
   "metadata": {},
   "source": [
    "# Conclusion"
   ]
  },
  {
   "cell_type": "markdown",
   "id": "3723aa83",
   "metadata": {},
   "source": [
    "We inspire from the following [repository](https://github.com/lchizat/annealed-sinkhorn/blob/main/annealed-sinkhorn.ipynb) in the elaboration of this tutorial.\n"
   ]
  },
  {
   "cell_type": "markdown",
   "id": "3080aed3",
   "metadata": {},
   "source": [
    "To ensure compatibility between different JAX versions and the packages used in this tutorial, we adopted the following configuration when elaborating the tutorial.\n",
    "\n",
    "- `jax==0.4.38`\n",
    "- `jaxlib==0.4.38`\n",
    "- `flax==0.10.2`\n",
    "- `chex==0.1.86`\n",
    "- `optax==0.2.4`\n"
   ]
  }
 ],
 "metadata": {
  "kernelspec": {
   "display_name": "base",
   "language": "python",
   "name": "python3"
  },
  "language_info": {
   "codemirror_mode": {
    "name": "ipython",
    "version": 3
   },
   "file_extension": ".py",
   "mimetype": "text/x-python",
   "name": "python",
   "nbconvert_exporter": "python",
   "pygments_lexer": "ipython3",
   "version": "3.12.3"
  }
 },
 "nbformat": 4,
 "nbformat_minor": 5
}
